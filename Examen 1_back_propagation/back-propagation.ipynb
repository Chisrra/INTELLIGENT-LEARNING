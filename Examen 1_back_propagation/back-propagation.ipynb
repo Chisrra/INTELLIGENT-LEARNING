{
 "cells": [
  {
   "attachments": {},
   "cell_type": "markdown",
   "metadata": {},
   "source": [
    "# Examen primer parcial\n",
    "> ### Universidad Autónoma de Aguascalientes\n",
    ">\n",
    "> ### Departamento: Ciencias de la Computación\n",
    ">\n",
    "> ### Carrera: Ingenieria en Computación Inteligente\n",
    ">\n",
    "> ##### Curso: Aprendizaje Inteligente (Enero_Junio-2023)\n",
    "> ##### Maestro: Dr. Francisco Javier Luna Rosas\n",
    "> ##### Equipo:\n",
    "> - Cesar Omar Alatorre López\n",
    "> - Cristian Israel Donato Flores\n",
    "> - Cesar Arturo Montoya Esqueda\n",
    "> - Emilio Luna Perez\n",
    "> ##### Fecha: 28 de Febrero del 2023"
   ]
  },
  {
   "attachments": {},
   "cell_type": "markdown",
   "metadata": {},
   "source": [
    "## Importación de libreria(s)"
   ]
  },
  {
   "cell_type": "code",
   "execution_count": 106,
   "metadata": {},
   "outputs": [],
   "source": [
    "import math"
   ]
  },
  {
   "attachments": {},
   "cell_type": "markdown",
   "metadata": {},
   "source": [
    "## Función de activación"
   ]
  },
  {
   "cell_type": "code",
   "execution_count": 107,
   "metadata": {},
   "outputs": [],
   "source": [
    "def adaptacion(i_j:float):\n",
    "    \"\"\"Aplicamos la función de adaptacion a nuestro valor i_j para obtener la salida resultante\n",
    "\n",
    "    Args:\n",
    "        i_j (float): Valor del calculo de la suma de la multiplicacion de pesos y entradas más el bias\n",
    "\n",
    "    Returns:\n",
    "        float: Resultado de la función de adaptación\n",
    "    \"\"\"\n",
    "    return 1 / (1 + math.exp(-i_j))"
   ]
  },
  {
   "attachments": {},
   "cell_type": "markdown",
   "metadata": {},
   "source": [
    "## Propagacion hacia adelate"
   ]
  },
  {
   "cell_type": "code",
   "execution_count": 108,
   "metadata": {},
   "outputs": [],
   "source": [
    "def forwardPropagation(w1, w2, w3, w4, w5, x, bias):\n",
    "    \"\"\"Ejecuta la propagación hacia delante del modelo, calculando lo valores de salida que tendran las neuronas en base a sus entradas, pesos y bias.\n",
    "\n",
    "    Args:\n",
    "        w1 (dict): Pesos que salen de la neurona 1\n",
    "        w2 (dict): Pesos que salen de la neurona 2\n",
    "        w3 (dict): Pesos que salen de la neurona 3\n",
    "        w4 (dict): Pesos que salen de la neurona 4\n",
    "        w5 (dict): Pesos que salen de la neurona 5\n",
    "        x (tuple): Valores de entrada del modelo\n",
    "        bias (dict): Valores del bias de las neuronas\n",
    "\n",
    "    Returns:\n",
    "        float: Valores de salida de las neuronas 4, 5 y 6\n",
    "    \"\"\"\n",
    "    y4 = adaptacion(w1[4]*x[0] + w2[4]*x[1] + w3[4]*x[2] + bias[4])\n",
    "    y5 = adaptacion(w1[5]*x[0] + w2[5]*x[1] + w3[5]*x[2] + bias[5])\n",
    "    y6 = adaptacion(w4[6]*y4 + w5[6]*y5 + bias[6])\n",
    "\n",
    "    return y4, y5, y6"
   ]
  },
  {
   "attachments": {},
   "cell_type": "markdown",
   "metadata": {},
   "source": [
    "## Propagación hacia atras"
   ]
  },
  {
   "cell_type": "code",
   "execution_count": 109,
   "metadata": {},
   "outputs": [],
   "source": [
    "def backPropagation(w1, w2, w3, w4, w5, x, bias, y4, y5, y6, target):\n",
    "    \"\"\"Función que utiliza la propagación hacia atras para hacer el caluclo del error de las salidas, y posteriormente la actualización de los pesos y bias.\n",
    "\n",
    "    Args:\n",
    "        w1 (dict): Pesos que salen de la neurona 1\n",
    "        w2 (dict): Pesos que salen de la neurona 2\n",
    "        w3 (dict): Pesos que salen de la neurona 3\n",
    "        w4 (dict): Pesos que salen de la neurona 4\n",
    "        w5 (dict): Pesos que salen de la neurona 5\n",
    "        x (tuple): Valores de entrada del modelo\n",
    "        bias (dict): Valores del bias de las neuronas\n",
    "        y4 (float): Valor de salida de la neurona 4\n",
    "        y5 (float): Valor de salida de la neurona 5\n",
    "        y6 (float): Valor de salida de la neurona 4\n",
    "        target (float): Valor al que queremos llegar\n",
    "\n",
    "    Returns:\n",
    "        dict: diccionarios de pesos 1, 2, 3, 4, 5 y bias actualizados\n",
    "    \"\"\"\n",
    "    lr = 0.01\n",
    "    # Calculo del error de salida j\n",
    "    # j = 6\n",
    "    err_6 = y6 * (1 - y6) * (target - y6)\n",
    "    # j = 5\n",
    "    err_5 = y5 * (1 - y5) * (err_6 * w5[6])\n",
    "    # j = 4\n",
    "    err_4 = y4 * (1 - y4) * (err_6 * w4[6])\n",
    "\n",
    "    # Actualizar nuevos pesos\n",
    "    w5[6] = w5[6] + (lr * err_6 * y5)\n",
    "    \n",
    "    w4[6] = w4[6] + (lr * err_6 * y4)\n",
    "\n",
    "    w3[5] = w3[5] + (lr * err_5 * x[2])\n",
    "    w3[4] = w3[4] + (lr * err_4 * x[2])\n",
    "\n",
    "    w2[5] = w2[5] + (lr * err_5 * x[1])\n",
    "    w2[4] = w2[4] + (lr * err_4 * x[1])\n",
    "\n",
    "    w1[5] = w1[5] + (lr * err_5 * x[0])\n",
    "    w1[4] = w1[4] + (lr * err_4 * x[0])\n",
    "\n",
    "    # Actualizar bias \n",
    "    bias[6] = bias[6] + (lr * err_6)\n",
    "    bias[5] = bias[5] + (lr * err_5)\n",
    "    bias[4] = bias[4] + (lr * err_4)\n",
    "    \n",
    "    return w1, w2, w3, w4, w5, bias"
   ]
  },
  {
   "attachments": {},
   "cell_type": "markdown",
   "metadata": {},
   "source": [
    "## Guardando datos e iterando"
   ]
  },
  {
   "cell_type": "code",
   "execution_count": 110,
   "metadata": {},
   "outputs": [
    {
     "name": "stdout",
     "output_type": "stream",
     "text": [
      "Modelo ajustado, ha tardado 9999999 iteraciones\n",
      "El valor de la salida fue: 0.9998659186814766\n",
      "Pesos de la neurona 1: {4: 0.7792095397293777, 5: 0.5194827782037711}\n",
      "Pesos de la neurona 2: {4: 0.4, 5: 0.1}\n",
      "Pesos de la neurona 3: {4: 0.07920953972941944, 5: 1.0194827782037263}\n",
      "Pesos de la neurona 4: {6: 1.6761038771898933}\n",
      "Pesos de la neurona 5: {6: 3.095117781584933}\n",
      "Valores finales del bias: {4: 0.17920953972942522, 5: 1.0194827782037263, 6: 4.806608408698963}\n"
     ]
    }
   ],
   "source": [
    "x = (1, 0, 1)\n",
    "target = 1\n",
    "w1 = {4 : 0.2, 5 : -0.3}\n",
    "w2 = {4 : 0.4, 5 : 0.1}\n",
    "w3 = {4 : -0.5, 5 : 0.2}\n",
    "\n",
    "w4 = {6 : -0.3}\n",
    "w5 = {6 : -0.2}\n",
    "\n",
    "bias = {4 : -0.4, 5 : 0.2, 6 : 0.1}\n",
    "\n",
    "epocas = 10000000\n",
    "for i in range(epocas):\n",
    "    y4, y5, y6 = forwardPropagation(w1, w2, w3, w4, w5, x, bias)\n",
    "    w1, w2, w3, w4, w5, bias = backPropagation(w1, w2, w3, w4, w5, x, bias, y4, y5, y6, target)\n",
    "\n",
    "\"\"\"\n",
    "i = 0\n",
    "y6 = None\n",
    "while y6 != target:\n",
    "    y4, y5, y6 = forwardPropagation(w1, w2, w3, w4, w5, x, bias)\n",
    "    w1, w2, w3, w4, w5, bias = backPropagation(w1, w2, w3, w4, w5, x, bias, y4, y5, y6, target)\n",
    "    i += 1\n",
    "\"\"\"\n",
    "print(f\"Modelo ajustado, ha tardado {i} iteraciones\")\n",
    "print(f\"El valor de la salida fue: {y6}\")\n",
    "print(f\"Pesos de la neurona 1: {w1}\")\n",
    "print(f\"Pesos de la neurona 2: {w2}\")\n",
    "print(f\"Pesos de la neurona 3: {w3}\")\n",
    "print(f\"Pesos de la neurona 4: {w4}\")\n",
    "print(f\"Pesos de la neurona 5: {w5}\")\n",
    "print(f\"Valores finales del bias: {bias}\")\n"
   ]
  }
 ],
 "metadata": {
  "kernelspec": {
   "display_name": "Python 3",
   "language": "python",
   "name": "python3"
  },
  "language_info": {
   "codemirror_mode": {
    "name": "ipython",
    "version": 3
   },
   "file_extension": ".py",
   "mimetype": "text/x-python",
   "name": "python",
   "nbconvert_exporter": "python",
   "pygments_lexer": "ipython3",
   "version": "3.11.1"
  },
  "orig_nbformat": 4,
  "vscode": {
   "interpreter": {
    "hash": "718715b73e0a150c6aa0738ed8aa0727f84182aa4188b2f31734b0cdc51341ea"
   }
  }
 },
 "nbformat": 4,
 "nbformat_minor": 2
}
